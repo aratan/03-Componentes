{
  "cells": [
    {
      "cell_type": "markdown",
      "metadata": {
        "id": "view-in-github",
        "colab_type": "text"
      },
      "source": [
        "<a href=\"https://colab.research.google.com/github/aratan/03-Componentes/blob/master/PanoHead_custom_pas1-3Dcolab.ipynb\" target=\"_parent\"><img src=\"https://colab.research.google.com/assets/colab-badge.svg\" alt=\"Open In Colab\"/></a>"
      ]
    },
    {
      "cell_type": "code",
      "execution_count": 7,
      "metadata": {
        "id": "c-JdJwOaMWiS",
        "colab": {
          "base_uri": "https://localhost:8080/"
        },
        "outputId": "73e5391d-0bf4-420c-e336-2f26899af41d"
      },
      "outputs": [
        {
          "output_type": "stream",
          "name": "stdout",
          "text": [
            "/content\n",
            "fatal: destination path 'PanoHead' already exists and is not an empty directory.\n",
            "aria2 is already the newest version (1.36.0-1).\n",
            "0 upgraded, 0 newly installed, 0 to remove and 24 not upgraded.\n",
            "\n",
            "Download Results:\n",
            "gid   |stat|avg speed  |path/URI\n",
            "======+====+===========+=======================================================\n",
            "ed7131|\u001b[1;32mOK\u001b[0m  |       0B/s|/content/PanoHead/models/ablation-trigridD-1-025000.pkl\n",
            "\n",
            "Status Legend:\n",
            "(OK):download completed.\n",
            "\n",
            "Download Results:\n",
            "gid   |stat|avg speed  |path/URI\n",
            "======+====+===========+=======================================================\n",
            "35702f|\u001b[1;32mOK\u001b[0m  |       0B/s|/content/PanoHead/models/baseline-easy-khair-025000.pkl\n",
            "\n",
            "Status Legend:\n",
            "(OK):download completed.\n",
            "\n",
            "Download Results:\n",
            "gid   |stat|avg speed  |path/URI\n",
            "======+====+===========+=======================================================\n",
            "e90c5c|\u001b[1;32mOK\u001b[0m  |       0B/s|/content/PanoHead/models/easy-khair-180-gpc0.8-trans10-025000.pkl\n",
            "\n",
            "Status Legend:\n",
            "(OK):download completed.\n",
            "Requirement already satisfied: imgui in /usr/local/lib/python3.10/dist-packages (2.0.0)\n",
            "Requirement already satisfied: glfw in /usr/local/lib/python3.10/dist-packages (2.6.4)\n",
            "Requirement already satisfied: pyspng in /usr/local/lib/python3.10/dist-packages (0.1.1)\n",
            "Requirement already satisfied: mrcfile in /usr/local/lib/python3.10/dist-packages (1.5.0)\n",
            "Requirement already satisfied: ninja in /usr/local/lib/python3.10/dist-packages (1.11.1.1)\n",
            "Requirement already satisfied: plyfile in /usr/local/lib/python3.10/dist-packages (1.0.3)\n",
            "Requirement already satisfied: trimesh in /usr/local/lib/python3.10/dist-packages (4.0.9)\n",
            "Requirement already satisfied: onnxruntime in /usr/local/lib/python3.10/dist-packages (1.16.3)\n",
            "Requirement already satisfied: onnx in /usr/local/lib/python3.10/dist-packages (1.15.0)\n",
            "Requirement already satisfied: numpy in /usr/local/lib/python3.10/dist-packages (from pyspng) (1.23.5)\n",
            "Requirement already satisfied: coloredlogs in /usr/local/lib/python3.10/dist-packages (from onnxruntime) (15.0.1)\n",
            "Requirement already satisfied: flatbuffers in /usr/local/lib/python3.10/dist-packages (from onnxruntime) (23.5.26)\n",
            "Requirement already satisfied: packaging in /usr/local/lib/python3.10/dist-packages (from onnxruntime) (23.2)\n",
            "Requirement already satisfied: protobuf in /usr/local/lib/python3.10/dist-packages (from onnxruntime) (3.20.3)\n",
            "Requirement already satisfied: sympy in /usr/local/lib/python3.10/dist-packages (from onnxruntime) (1.12)\n",
            "Requirement already satisfied: humanfriendly>=9.1 in /usr/local/lib/python3.10/dist-packages (from coloredlogs->onnxruntime) (10.0)\n",
            "Requirement already satisfied: mpmath>=0.19 in /usr/local/lib/python3.10/dist-packages (from sympy->onnxruntime) (1.3.0)\n",
            "/content\n",
            "fatal: destination path '3DDFA_V2' already exists and is not an empty directory.\n",
            "/content/3DDFA_V2\n",
            "\n",
            "Download Results:\n",
            "gid   |stat|avg speed  |path/URI\n",
            "======+====+===========+=======================================================\n",
            "4d0274|\u001b[1;32mOK\u001b[0m  |       0B/s|/content/3DDFA_V2/shape_predictor_68_face_landmarks.dat\n",
            "\n",
            "Status Legend:\n",
            "(OK):download completed.\n",
            "mkdir: cannot create directory ‘/content/in’: File exists\n",
            "mkdir: cannot create directory ‘/content/stage’: File exists\n",
            "mkdir: cannot create directory ‘/content/output’: File exists\n"
          ]
        }
      ],
      "source": [
        "%cd /content\n",
        "!git clone -b dev1 https://github.com/camenduru/PanoHead\n",
        "\n",
        "!apt -y install -qq aria2\n",
        "!aria2c --console-log-level=error -c -x 16 -s 16 -k 1M https://huggingface.co/camenduru/PanoHead/resolve/main/ablation-trigridD-1-025000.pkl -d /content/PanoHead/models -o ablation-trigridD-1-025000.pkl\n",
        "!aria2c --console-log-level=error -c -x 16 -s 16 -k 1M https://huggingface.co/camenduru/PanoHead/resolve/main/baseline-easy-khair-025000.pkl -d /content/PanoHead/models -o baseline-easy-khair-025000.pkl\n",
        "!aria2c --console-log-level=error -c -x 16 -s 16 -k 1M https://huggingface.co/camenduru/PanoHead/resolve/main/easy-khair-180-gpc0.8-trans10-025000.pkl -d /content/PanoHead/models -o easy-khair-180-gpc0.8-trans10-025000.pkl\n",
        "\n",
        "!pip install imgui glfw pyspng mrcfile ninja plyfile trimesh onnxruntime onnx\n",
        "\n",
        "%cd /content\n",
        "!git clone -b dev https://github.com/camenduru/3DDFA_V2\n",
        "%cd /content/3DDFA_V2\n",
        "!sh ./build.sh\n",
        "\n",
        "!cp -rf /content/PanoHead/3DDFA_V2_cropping/test /content/3DDFA_V2\n",
        "!cp /content/PanoHead/3DDFA_V2_cropping/dlib_kps.py /content/3DDFA_V2\n",
        "!cp /content/PanoHead/3DDFA_V2_cropping/recrop_images.py /content/3DDFA_V2\n",
        "\n",
        "!aria2c --console-log-level=error -c -x 16 -s 16 -k 1M https://huggingface.co/camenduru/shape_predictor_68_face_landmarks/resolve/main/shape_predictor_68_face_landmarks.dat -d /content/3DDFA_V2 -o shape_predictor_68_face_landmarks.dat\n",
        "\n",
        "!mkdir /content/in /content/stage /content/output"
      ]
    },
    {
      "cell_type": "markdown",
      "source": [
        "sube la imagen a la carpeta IN y pasa al siguiente paso., dentro de outputaesy..0 tendras geometry es lo que necesitaremos para el nodelo 3D"
      ],
      "metadata": {
        "id": "egk_5JBpl8Jo"
      }
    },
    {
      "cell_type": "code",
      "execution_count": 8,
      "metadata": {
        "colab": {
          "base_uri": "https://localhost:8080/"
        },
        "id": "RVHts7wRj40e",
        "outputId": "6c6246eb-b96b-4004-dcfa-1627bd87164b"
      },
      "outputs": [
        {
          "output_type": "stream",
          "name": "stdout",
          "text": [
            "/content/3DDFA_V2\n",
            "100% 1/1 [00:00<00:00,  1.58it/s]\n",
            "results: 1\n"
          ]
        }
      ],
      "source": [
        "%cd /content/3DDFA_V2\n",
        "!rm -rf /content/stage/* /content/3DDFA_V2/crop_samples/img/* /content/3DDFA_V2/test/original/* /content/output/*\n",
        "!cp /content/in/* /content/3DDFA_V2/test/original\n",
        "\n",
        "!python dlib_kps.py\n",
        "!python recrop_images.py -i data.pkl -j dataset.json\n",
        "\n",
        "!cp -rf /content/3DDFA_V2/crop_samples/img/* /content/stage\n",
        "\n",
        "# %cd /content/PanoHead\n",
        "# !./gen_pti_script.sh"
      ]
    },
    {
      "cell_type": "code",
      "execution_count": 9,
      "metadata": {
        "colab": {
          "base_uri": "https://localhost:8080/"
        },
        "id": "3e9kaWrFj40f",
        "outputId": "b7bafb14-2426-4d56-bba0-ace4c3a3e7e7"
      },
      "outputs": [
        {
          "output_type": "stream",
          "name": "stdout",
          "text": [
            "/content/PanoHead\n",
            "Loading networks from \"/content/PanoHead/models/easy-khair-180-gpc0.8-trans10-025000.pkl\"...\n",
            "Traceback (most recent call last):\n",
            "  File \"/content/PanoHead/projector_withseg.py\", line 439, in <module>\n",
            "    run_projection() # pylint: disable=no-value-for-parameter\n",
            "  File \"/usr/local/lib/python3.10/dist-packages/click/core.py\", line 1157, in __call__\n",
            "    return self.main(*args, **kwargs)\n",
            "  File \"/usr/local/lib/python3.10/dist-packages/click/core.py\", line 1078, in main\n",
            "    rv = self.invoke(ctx)\n",
            "  File \"/usr/local/lib/python3.10/dist-packages/click/core.py\", line 1434, in invoke\n",
            "    return ctx.invoke(self.callback, **ctx.params)\n",
            "  File \"/usr/local/lib/python3.10/dist-packages/click/core.py\", line 783, in invoke\n",
            "    return __callback(*args, **kwargs)\n",
            "  File \"/content/PanoHead/projector_withseg.py\", line 325, in run_projection\n",
            "    c = torch.from_numpy(dataset._get_raw_labels()[idx:idx+1]).to(device)\n",
            "  File \"/content/PanoHead/training/dataset.py\", line 59, in _get_raw_labels\n",
            "    self._raw_labels = self._load_raw_labels() if self._use_labels else None\n",
            "  File \"/content/PanoHead/training/dataset.py\", line 244, in _load_raw_labels\n",
            "    labels = [labels[fname.replace('\\\\', '/')] for fname in self._image_fnames]\n",
            "  File \"/content/PanoHead/training/dataset.py\", line 244, in <listcomp>\n",
            "    labels = [labels[fname.replace('\\\\', '/')] for fname in self._image_fnames]\n",
            "KeyError: 'woman.jpg'\n"
          ]
        }
      ],
      "source": [
        "%cd /content/PanoHead\n",
        "!python projector_withseg.py --shapes=True --num-steps=100 --num-steps-pti=100 --outdir=/content/output --target_img=/content/stage --network=/content/PanoHead/models/easy-khair-180-gpc0.8-trans10-025000.pkl --idx 0"
      ]
    },
    {
      "cell_type": "code",
      "execution_count": 12,
      "metadata": {
        "colab": {
          "base_uri": "https://localhost:8080/"
        },
        "id": "4IZEzrU5j40f",
        "outputId": "3ac640d0-5063-4b71-ab55-2d4f8d4e3911"
      },
      "outputs": [
        {
          "output_type": "stream",
          "name": "stdout",
          "text": [
            "/content/PanoHead\n",
            "Loading networks from \"/content/PanoHead/models/easy-khair-180-gpc0.8-trans10-025000.pkl\"...\n",
            "Traceback (most recent call last):\n",
            "  File \"/content/PanoHead/gen_videos_proj_withseg.py\", line 301, in <module>\n",
            "    generate_images() # pylint: disable=no-value-for-parameter\n",
            "  File \"/usr/local/lib/python3.10/dist-packages/click/core.py\", line 1157, in __call__\n",
            "    return self.main(*args, **kwargs)\n",
            "  File \"/usr/local/lib/python3.10/dist-packages/click/core.py\", line 1078, in main\n",
            "    rv = self.invoke(ctx)\n",
            "  File \"/usr/local/lib/python3.10/dist-packages/click/core.py\", line 1434, in invoke\n",
            "    return ctx.invoke(self.callback, **ctx.params)\n",
            "  File \"/usr/local/lib/python3.10/dist-packages/click/core.py\", line 783, in invoke\n",
            "    return __callback(*args, **kwargs)\n",
            "  File \"/content/PanoHead/gen_videos_proj_withseg.py\", line 295, in generate_images\n",
            "    ws = torch.tensor(np.load(latent)['w']).to(device)\n",
            "  File \"/usr/local/lib/python3.10/dist-packages/numpy/lib/npyio.py\", line 405, in load\n",
            "    fid = stack.enter_context(open(os_fspath(file), \"rb\"))\n",
            "FileNotFoundError: [Errno 2] No such file or directory: '/content/output/easy-khair-180-gpc0.8-trans10-025000.pkl/0/projected_w.npz'\n"
          ]
        }
      ],
      "source": [
        "%cd /content/PanoHead\n",
        "!python gen_videos_proj_withseg.py --output=/content/output/easy-khair-180-gpc0.8-trans10-025000.pkl/0/PTI_render/pre.mp4 --latent=/content/output/easy-khair-180-gpc0.8-trans10-025000.pkl/0/projected_w.npz --trunc 0.7 --network /content/PanoHead/models/easy-khair-180-gpc0.8-trans10-025000.pkl --cfg Head"
      ]
    },
    {
      "cell_type": "code",
      "execution_count": 11,
      "metadata": {
        "colab": {
          "base_uri": "https://localhost:8080/"
        },
        "id": "f3YzAVUhj40f",
        "outputId": "b1e1c72b-8bbb-4389-e630-9f66457b4191"
      },
      "outputs": [
        {
          "output_type": "stream",
          "name": "stdout",
          "text": [
            "/content/PanoHead\n",
            "Loading networks from \"/content/output/easy-khair-180-gpc0.8-trans10-025000.pkl/0/fintuned_generator.pkl\"...\n",
            "Traceback (most recent call last):\n",
            "  File \"/content/PanoHead/gen_videos_proj_withseg.py\", line 301, in <module>\n",
            "    generate_images() # pylint: disable=no-value-for-parameter\n",
            "  File \"/usr/local/lib/python3.10/dist-packages/click/core.py\", line 1157, in __call__\n",
            "    return self.main(*args, **kwargs)\n",
            "  File \"/usr/local/lib/python3.10/dist-packages/click/core.py\", line 1078, in main\n",
            "    rv = self.invoke(ctx)\n",
            "  File \"/usr/local/lib/python3.10/dist-packages/click/core.py\", line 1434, in invoke\n",
            "    return ctx.invoke(self.callback, **ctx.params)\n",
            "  File \"/usr/local/lib/python3.10/dist-packages/click/core.py\", line 783, in invoke\n",
            "    return __callback(*args, **kwargs)\n",
            "  File \"/content/PanoHead/gen_videos_proj_withseg.py\", line 281, in generate_images\n",
            "    with dnnlib.util.open_url(network_pkl) as f:\n",
            "  File \"/content/PanoHead/dnnlib/util.py\", line 405, in open_url\n",
            "    return url if return_filename else open(url, \"rb\")\n",
            "FileNotFoundError: [Errno 2] No such file or directory: '/content/output/easy-khair-180-gpc0.8-trans10-025000.pkl/0/fintuned_generator.pkl'\n"
          ]
        }
      ],
      "source": [
        "%cd /content/PanoHead\n",
        "!python gen_videos_proj_withseg.py --output=/content/output/easy-khair-180-gpc0.8-trans10-025000.pkl/0/PTI_render/post.mp4 --latent=/content/output/easy-khair-180-gpc0.8-trans10-025000.pkl/0/projected_w.npz --trunc 0.7 --network /content/output/easy-khair-180-gpc0.8-trans10-025000.pkl/0/fintuned_generator.pkl --cfg Head"
      ]
    }
  ],
  "metadata": {
    "accelerator": "GPU",
    "colab": {
      "gpuType": "T4",
      "provenance": [],
      "include_colab_link": true
    },
    "kernelspec": {
      "display_name": "Python 3",
      "name": "python3"
    },
    "language_info": {
      "name": "python"
    }
  },
  "nbformat": 4,
  "nbformat_minor": 0
}